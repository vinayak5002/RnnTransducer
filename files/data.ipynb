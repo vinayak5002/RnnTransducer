{
 "cells": [
  {
   "cell_type": "code",
   "execution_count": 1,
   "metadata": {},
   "outputs": [],
   "source": [
    "import pandas as pd"
   ]
  },
  {
   "cell_type": "code",
   "execution_count": 4,
   "metadata": {},
   "outputs": [],
   "source": [
    "# read the file validated_top_10_clearnsed.csv and split into train and test set\n",
    "df = pd.read_csv('validated_top10_cleaned.csv')\n",
    "# df = df.drop(columns=['Unnamed: 0'])\n",
    "\n",
    "train = df.iloc[:int(0.8*len(df))]\n",
    "test = df.iloc[int(0.8*len(df)):]"
   ]
  },
  {
   "cell_type": "code",
   "execution_count": 35,
   "metadata": {},
   "outputs": [],
   "source": [
    "df = test"
   ]
  },
  {
   "cell_type": "code",
   "execution_count": 36,
   "metadata": {},
   "outputs": [
    {
     "data": {
      "text/html": [
       "<div>\n",
       "<style scoped>\n",
       "    .dataframe tbody tr th:only-of-type {\n",
       "        vertical-align: middle;\n",
       "    }\n",
       "\n",
       "    .dataframe tbody tr th {\n",
       "        vertical-align: top;\n",
       "    }\n",
       "\n",
       "    .dataframe thead th {\n",
       "        text-align: right;\n",
       "    }\n",
       "</style>\n",
       "<table border=\"1\" class=\"dataframe\">\n",
       "  <thead>\n",
       "    <tr style=\"text-align: right;\">\n",
       "      <th></th>\n",
       "      <th>path</th>\n",
       "      <th>accents</th>\n",
       "      <th>sentence</th>\n",
       "    </tr>\n",
       "  </thead>\n",
       "  <tbody>\n",
       "    <tr>\n",
       "      <th>2639</th>\n",
       "      <td>common_voice_en_37887096.mp3</td>\n",
       "      <td>Southern African (South Africa, Zimbabwe, Nami...</td>\n",
       "      <td>Before all these predictions a battle was to t...</td>\n",
       "    </tr>\n",
       "    <tr>\n",
       "      <th>2640</th>\n",
       "      <td>common_voice_en_37887106.mp3</td>\n",
       "      <td>Southern African (South Africa, Zimbabwe, Nami...</td>\n",
       "      <td>Purble Shop is a codebreaker game</td>\n",
       "    </tr>\n",
       "    <tr>\n",
       "      <th>2641</th>\n",
       "      <td>common_voice_en_37887128.mp3</td>\n",
       "      <td>Southern African (South Africa, Zimbabwe, Nami...</td>\n",
       "      <td>The walking path around the lake is long</td>\n",
       "    </tr>\n",
       "    <tr>\n",
       "      <th>2642</th>\n",
       "      <td>common_voice_en_37887979.mp3</td>\n",
       "      <td>Southern African (South Africa, Zimbabwe, Nami...</td>\n",
       "      <td>It is certain that Megara never recovered its ...</td>\n",
       "    </tr>\n",
       "    <tr>\n",
       "      <th>2643</th>\n",
       "      <td>common_voice_en_37888050.mp3</td>\n",
       "      <td>Southern African (South Africa, Zimbabwe, Nami...</td>\n",
       "      <td>Consumption of energy and raw materials was ex...</td>\n",
       "    </tr>\n",
       "  </tbody>\n",
       "</table>\n",
       "</div>"
      ],
      "text/plain": [
       "                              path  \\\n",
       "2639  common_voice_en_37887096.mp3   \n",
       "2640  common_voice_en_37887106.mp3   \n",
       "2641  common_voice_en_37887128.mp3   \n",
       "2642  common_voice_en_37887979.mp3   \n",
       "2643  common_voice_en_37888050.mp3   \n",
       "\n",
       "                                                accents  \\\n",
       "2639  Southern African (South Africa, Zimbabwe, Nami...   \n",
       "2640  Southern African (South Africa, Zimbabwe, Nami...   \n",
       "2641  Southern African (South Africa, Zimbabwe, Nami...   \n",
       "2642  Southern African (South Africa, Zimbabwe, Nami...   \n",
       "2643  Southern African (South Africa, Zimbabwe, Nami...   \n",
       "\n",
       "                                               sentence  \n",
       "2639  Before all these predictions a battle was to t...  \n",
       "2640                  Purble Shop is a codebreaker game  \n",
       "2641           The walking path around the lake is long  \n",
       "2642  It is certain that Megara never recovered its ...  \n",
       "2643  Consumption of energy and raw materials was ex...  "
      ]
     },
     "execution_count": 36,
     "metadata": {},
     "output_type": "execute_result"
    }
   ],
   "source": [
    "df.head()"
   ]
  },
  {
   "cell_type": "code",
   "execution_count": 37,
   "metadata": {},
   "outputs": [],
   "source": [
    "# drop column accent\n",
    "df = df.drop(columns=['accents'])\n"
   ]
  },
  {
   "cell_type": "code",
   "execution_count": 58,
   "metadata": {},
   "outputs": [
    {
     "data": {
      "text/html": [
       "<div>\n",
       "<style scoped>\n",
       "    .dataframe tbody tr th:only-of-type {\n",
       "        vertical-align: middle;\n",
       "    }\n",
       "\n",
       "    .dataframe tbody tr th {\n",
       "        vertical-align: top;\n",
       "    }\n",
       "\n",
       "    .dataframe thead th {\n",
       "        text-align: right;\n",
       "    }\n",
       "</style>\n",
       "<table border=\"1\" class=\"dataframe\">\n",
       "  <thead>\n",
       "    <tr style=\"text-align: right;\">\n",
       "      <th></th>\n",
       "      <th>path</th>\n",
       "      <th>sentence</th>\n",
       "      <th>duration</th>\n",
       "    </tr>\n",
       "  </thead>\n",
       "  <tbody>\n",
       "    <tr>\n",
       "      <th>0</th>\n",
       "      <td>files/clips/common_voice_en_37887096.mp3</td>\n",
       "      <td>before all these predictions a battle was to t...</td>\n",
       "      <td>5.580</td>\n",
       "    </tr>\n",
       "    <tr>\n",
       "      <th>1</th>\n",
       "      <td>files/clips/common_voice_en_37887106.mp3</td>\n",
       "      <td>purble shop is a codebreaker game</td>\n",
       "      <td>4.356</td>\n",
       "    </tr>\n",
       "    <tr>\n",
       "      <th>2</th>\n",
       "      <td>files/clips/common_voice_en_37887128.mp3</td>\n",
       "      <td>the walking path around the lake is long</td>\n",
       "      <td>4.356</td>\n",
       "    </tr>\n",
       "    <tr>\n",
       "      <th>3</th>\n",
       "      <td>files/clips/common_voice_en_37887979.mp3</td>\n",
       "      <td>it is certain that megara never recovered its ...</td>\n",
       "      <td>7.380</td>\n",
       "    </tr>\n",
       "    <tr>\n",
       "      <th>4</th>\n",
       "      <td>files/clips/common_voice_en_37888050.mp3</td>\n",
       "      <td>consumption of energy and raw materials was ex...</td>\n",
       "      <td>7.776</td>\n",
       "    </tr>\n",
       "  </tbody>\n",
       "</table>\n",
       "</div>"
      ],
      "text/plain": [
       "                                       path  \\\n",
       "0  files/clips/common_voice_en_37887096.mp3   \n",
       "1  files/clips/common_voice_en_37887106.mp3   \n",
       "2  files/clips/common_voice_en_37887128.mp3   \n",
       "3  files/clips/common_voice_en_37887979.mp3   \n",
       "4  files/clips/common_voice_en_37888050.mp3   \n",
       "\n",
       "                                            sentence  duration  \n",
       "0  before all these predictions a battle was to t...     5.580  \n",
       "1                  purble shop is a codebreaker game     4.356  \n",
       "2           the walking path around the lake is long     4.356  \n",
       "3  it is certain that megara never recovered its ...     7.380  \n",
       "4  consumption of energy and raw materials was ex...     7.776  "
      ]
     },
     "execution_count": 58,
     "metadata": {},
     "output_type": "execute_result"
    }
   ],
   "source": [
    "# add prefix clips/ to all paths in the paths column of df\n",
    "df = pd.read_csv(\"test.csv\")\n",
    "df['path'] = 'files/' + df['path']\n",
    "df.head()"
   ]
  },
  {
   "cell_type": "code",
   "execution_count": 59,
   "metadata": {},
   "outputs": [],
   "source": [
    "#write into a new csv file\n",
    "df.to_csv('test.csv', index=False)"
   ]
  },
  {
   "cell_type": "code",
   "execution_count": 39,
   "metadata": {},
   "outputs": [],
   "source": [
    "from pydub import AudioSegment\n",
    "\n",
    "for index, row in df.iterrows():\n",
    "    audio_path = row['path']  # Get the path to the audio file\n",
    "    \n",
    "    # check if the file exists\n",
    "    try:\n",
    "        open(audio_path)\n",
    "    except:\n",
    "        print(f'File {audio_path} does not exist')\n",
    "        df = df.drop(index)\n",
    "        continue\n",
    "\n",
    "    # Load the audio file using pydub\n",
    "    audio = AudioSegment.from_file(audio_path)\n",
    "    \n",
    "    # Get the duration of the audio file in seconds and convert it to float\n",
    "    duration_seconds = len(audio) / 1000.0\n",
    "    \n",
    "    # Update the 'duration' column in the DataFrame\n",
    "    df.at[index, 'duration'] = duration_seconds"
   ]
  },
  {
   "cell_type": "code",
   "execution_count": 40,
   "metadata": {},
   "outputs": [
    {
     "data": {
      "text/html": [
       "<div>\n",
       "<style scoped>\n",
       "    .dataframe tbody tr th:only-of-type {\n",
       "        vertical-align: middle;\n",
       "    }\n",
       "\n",
       "    .dataframe tbody tr th {\n",
       "        vertical-align: top;\n",
       "    }\n",
       "\n",
       "    .dataframe thead th {\n",
       "        text-align: right;\n",
       "    }\n",
       "</style>\n",
       "<table border=\"1\" class=\"dataframe\">\n",
       "  <thead>\n",
       "    <tr style=\"text-align: right;\">\n",
       "      <th></th>\n",
       "      <th>path</th>\n",
       "      <th>sentence</th>\n",
       "      <th>duration</th>\n",
       "    </tr>\n",
       "  </thead>\n",
       "  <tbody>\n",
       "    <tr>\n",
       "      <th>2639</th>\n",
       "      <td>clips/common_voice_en_37887096.mp3</td>\n",
       "      <td>Before all these predictions a battle was to t...</td>\n",
       "      <td>5.580</td>\n",
       "    </tr>\n",
       "    <tr>\n",
       "      <th>2640</th>\n",
       "      <td>clips/common_voice_en_37887106.mp3</td>\n",
       "      <td>Purble Shop is a codebreaker game</td>\n",
       "      <td>4.356</td>\n",
       "    </tr>\n",
       "    <tr>\n",
       "      <th>2641</th>\n",
       "      <td>clips/common_voice_en_37887128.mp3</td>\n",
       "      <td>The walking path around the lake is long</td>\n",
       "      <td>4.356</td>\n",
       "    </tr>\n",
       "    <tr>\n",
       "      <th>2642</th>\n",
       "      <td>clips/common_voice_en_37887979.mp3</td>\n",
       "      <td>It is certain that Megara never recovered its ...</td>\n",
       "      <td>7.380</td>\n",
       "    </tr>\n",
       "    <tr>\n",
       "      <th>2643</th>\n",
       "      <td>clips/common_voice_en_37888050.mp3</td>\n",
       "      <td>Consumption of energy and raw materials was ex...</td>\n",
       "      <td>7.776</td>\n",
       "    </tr>\n",
       "  </tbody>\n",
       "</table>\n",
       "</div>"
      ],
      "text/plain": [
       "                                    path  \\\n",
       "2639  clips/common_voice_en_37887096.mp3   \n",
       "2640  clips/common_voice_en_37887106.mp3   \n",
       "2641  clips/common_voice_en_37887128.mp3   \n",
       "2642  clips/common_voice_en_37887979.mp3   \n",
       "2643  clips/common_voice_en_37888050.mp3   \n",
       "\n",
       "                                               sentence  duration  \n",
       "2639  Before all these predictions a battle was to t...     5.580  \n",
       "2640                  Purble Shop is a codebreaker game     4.356  \n",
       "2641           The walking path around the lake is long     4.356  \n",
       "2642  It is certain that Megara never recovered its ...     7.380  \n",
       "2643  Consumption of energy and raw materials was ex...     7.776  "
      ]
     },
     "execution_count": 40,
     "metadata": {},
     "output_type": "execute_result"
    }
   ],
   "source": [
    "df.head()"
   ]
  },
  {
   "cell_type": "code",
   "execution_count": 41,
   "metadata": {},
   "outputs": [],
   "source": [
    "# export df to a new cSV file named test.csv\n",
    "df.to_csv('test.csv', index=False)"
   ]
  },
  {
   "cell_type": "code",
   "execution_count": 45,
   "metadata": {},
   "outputs": [],
   "source": [
    "# read train.csv file, convert all the words to lower case and save it to a new file named train.csv\n",
    "df = pd.read_csv('test.csv')\n",
    "df['sentence'] = df['sentence'].str.lower()\n",
    "df.to_csv('test.csv', index=False)"
   ]
  },
  {
   "cell_type": "code",
   "execution_count": 50,
   "metadata": {},
   "outputs": [],
   "source": [
    "# create a file called vocab.txt and write the unique words in the 'sentence' column of df to it\n",
    "df = pd.read_csv('train.csv')\n",
    "vocab = set()\n",
    "for sentence in df['sentence']:\n",
    "    words = sentence.split()\n",
    "    vocab.update(words)\n"
   ]
  },
  {
   "cell_type": "code",
   "execution_count": 52,
   "metadata": {},
   "outputs": [],
   "source": [
    "df = pd.read_csv('test.csv')\n",
    "for sentence in df['sentence']:\n",
    "    words = sentence.split()\n",
    "    vocab.update(words)"
   ]
  },
  {
   "cell_type": "code",
   "execution_count": 53,
   "metadata": {},
   "outputs": [
    {
     "data": {
      "text/plain": [
       "8398"
      ]
     },
     "execution_count": 53,
     "metadata": {},
     "output_type": "execute_result"
    }
   ],
   "source": [
    "len(vocab)"
   ]
  },
  {
   "cell_type": "code",
   "execution_count": 55,
   "metadata": {},
   "outputs": [],
   "source": [
    "# create a file called vocab.txt and write the word in the vocab into that file\n",
    "with open('vocab.txt', 'w') as f:\n",
    "    for word in vocab:\n",
    "        f.write(word + '\\n')"
   ]
  },
  {
   "cell_type": "code",
   "execution_count": 61,
   "metadata": {},
   "outputs": [],
   "source": [
    "df = pd.read_csv('test.csv')\n",
    "# change the column 'sentence' to text\n",
    "df = df.rename(columns={'sentence': 'text'})\n",
    "df.to_csv('test.csv', index=False)"
   ]
  },
  {
   "cell_type": "code",
   "execution_count": 3,
   "metadata": {},
   "outputs": [],
   "source": [
    "# open file called voacb.txt and add a tocken number to each word\n",
    "with open('vocab.txt', 'r') as f:\n",
    "    vocab = f.read().splitlines()\n",
    "\n",
    "vocab_to_int = {word: i for i, word in enumerate(vocab, 1)}\n",
    "\n",
    "# write the vocab_to_int to a file called vocab_to_int.txt\n",
    "\n",
    "with open('vocab_to_int.txt', 'w') as f:\n",
    "    for word, i in vocab_to_int.items():\n",
    "        f.write(f'{word} {i+1}\\n')\n",
    "        "
   ]
  },
  {
   "cell_type": "code",
   "execution_count": 1,
   "metadata": {},
   "outputs": [],
   "source": [
    "import pandas as pd"
   ]
  },
  {
   "cell_type": "code",
   "execution_count": 3,
   "metadata": {},
   "outputs": [],
   "source": [
    "df = pd.read_csv('test.csv')\n",
    "\n",
    "# keep only first 1/10 of the rows\n",
    "df = df.iloc[:int(len(df)/10)]\n",
    "#write into a new csv file\n",
    "df.to_csv('testMini.csv', index=False)"
   ]
  },
  {
   "cell_type": "code",
   "execution_count": 2,
   "metadata": {},
   "outputs": [
    {
     "data": {
      "text/plain": [
       "Text(0.5, 1.0, 'Training Loss')"
      ]
     },
     "execution_count": 2,
     "metadata": {},
     "output_type": "execute_result"
    },
    {
     "data": {
      "image/png": "[encoded data removed]",
      "text/plain": [
       "<Figure size 640x480 with 1 Axes>"
      ]
     },
     "metadata": {},
     "output_type": "display_data"
    }
   ],
   "source": [
    "losses = [192.46, 211.16, 226.68, 246.27, 206.87, 230.52, 176.55, 162.85, -165.55, -53.52]\n",
    "import matplotlib.pyplot as plt\n",
    "\n",
    "plt.plot(losses)\n",
    "plt.xlabel('iterations')\n",
    "plt.ylabel('Loss')\n",
    "plt.title('Training Loss')\n"
   ]
  },
  {
   "cell_type": "code",
   "execution_count": 3,
   "metadata": {},
   "outputs": [
    {
     "data": {
      "text/plain": [
       "Text(0.5, 1.0, 'Training Loss')"
      ]
     },
     "execution_count": 3,
     "metadata": {},
     "output_type": "execute_result"
    },
    {
     "data": {
      "image/png": "[encoded data removed]",
      "text/plain": [
       "<Figure size 640x480 with 1 Axes>"
      ]
     },
     "metadata": {},
     "output_type": "display_data"
    }
   ],
   "source": [
    "losses = [194.26, 212.65, 231.23, 249.34, 215.20, 248.04, 218.13, 247.97, 239.77, 214.35, 220.61]\n",
    "import matplotlib.pyplot as plt\n",
    "plt.plot(losses)\n",
    "plt.xlabel('iterations')\n",
    "plt.ylabel('Loss')\n",
    "plt.title('Training Loss')"
   ]
  },
  {
   "cell_type": "code",
   "execution_count": 5,
   "metadata": {},
   "outputs": [
    {
     "data": {
      "image/png": "[encoded data removed]",
      "text/plain": [
       "<Figure size 800x600 with 2 Axes>"
      ]
     },
     "metadata": {},
     "output_type": "display_data"
    }
   ],
   "source": [
    "import matplotlib.pyplot as plt\n",
    "\n",
    "# Define the two lists of losses\n",
    "losses1 = [192.46, 211.16, 226.68, 246.27, 206.87, 230.52, 176.55, 162.85, -165.55, -53.52]\n",
    "losses2 = [194.26, 212.65, 231.23, 249.34, 215.20, 248.04, 218.13, 247.97, 239.77, 214.35, 195.4, 225.11]\n",
    "\n",
    "# Create two subplots with the same y-axis scale\n",
    "fig, axs = plt.subplots(2, 1, figsize=(8, 6), sharey=True)\n",
    "\n",
    "# Plot the first list of losses on the first subplot\n",
    "axs[0].plot(losses1, marker='o', color='blue')\n",
    "axs[0].set_title('Losses 1')\n",
    "\n",
    "# Plot the second list of losses on the second subplot\n",
    "axs[1].plot(losses2, marker='s', color='red')\n",
    "axs[1].set_title('Losses 2')\n",
    "\n",
    "# Set common labels\n",
    "fig.text(0.5, 0.04, 'Iterations', ha='center')\n",
    "fig.text(0.04, 0.5, 'Loss', va='center', rotation='vertical')\n",
    "\n",
    "# Adjust layout\n",
    "plt.tight_layout()\n",
    "\n",
    "# Show the plots\n",
    "plt.show()\n"
   ]
  }
 ],
 "metadata": {
  "kernelspec": {
   "display_name": "RnnT",
   "language": "python",
   "name": "python3"
  },
  "language_info": {
   "codemirror_mode": {
    "name": "ipython",
    "version": 3
   },
   "file_extension": ".py",
   "mimetype": "text/x-python",
   "name": "python",
   "nbconvert_exporter": "python",
   "pygments_lexer": "ipython3",
   "version": "3.11.7"
  }
 },
 "nbformat": 4,
 "nbformat_minor": 2
}
